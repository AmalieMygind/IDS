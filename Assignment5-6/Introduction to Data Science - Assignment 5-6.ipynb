{
 "cells": [
  {
   "cell_type": "code",
   "execution_count": 1,
   "metadata": {},
   "outputs": [],
   "source": [
    "# import packages\n",
    "import numpy as np\n",
    "import matplotlib.pyplot as plt\n",
    "plt.rcParams['figure.figsize'] = [4, 3]"
   ]
  },
  {
   "cell_type": "markdown",
   "metadata": {},
   "source": [
    "# Exercise 1 {-}"
   ]
  },
  {
   "cell_type": "markdown",
   "metadata": {},
   "source": [
    "In exercise 1 a few theoretical questions on Bayesian statistics are answered. In answering the question a linear model of the form $y=ax+b+\\varepsilon$ is considered with $\\varepsilon$ being a Gaussian noise with 0 mean and standard deviation $\\sigma$.\n",
    "\n",
    "a) The explicit probability density function of $\\varepsilon$ is $\\varepsilon(x)=\\frac{1}{\\sigma\\sqrt{2\\pi}}e^{-\\frac{1}{2}(\\frac{x}{\\sigma})^2}$.\n",
    "\n",
    "b) The conditional probability distribution of $y$ knowing $a$, $x$ and $b$ is $P(y|axb)=\\frac{P(axb|y)}{P(axb)}P(y)$.\n",
    "\n",
    "c) The parameters of the linear model are $x$ which is the independent variable, $a$ which is the slope i.e. the expected change in $y$ per unit change in $x$, $b$ which is the expected value of $y$ for $x=0$ and lastly $\\varepsilon$ which is the Gaussian noise as described above. \n"
   ]
  },
  {
   "cell_type": "markdown",
   "metadata": {},
   "source": [
    "# Exercise 2 {-}"
   ]
  },
  {
   "cell_type": "markdown",
   "metadata": {},
   "source": [
    "In exercise 2 linear regression will be implemented and used on the 'redwine' dataset to predict the quality of the wine from its physiochemical properties.  \n",
    "\n",
    "First the multivariate linear regression function is defined. "
   ]
  },
  {
   "cell_type": "code",
   "execution_count": 2,
   "metadata": {},
   "outputs": [],
   "source": [
    "#define multivariate linear regression function\n",
    "def multivarlinreg(x,y):\n",
    "    if x.ndim == 1:\n",
    "        x = x.reshape(-1,1)\n",
    "    x = np.append(np.ones((x.shape[0],1)), x, axis=1)\n",
    "    w = np.linalg.inv(x.T@x)@x.T@y\n",
    "#     if len(np.shape(x)) == 1:\n",
    "#         w = [((x.T@x)**-1)*x.T@y]\n",
    "#     else:\n",
    "#         w = np.linalg.inv(x.T@x)@x.T@y\n",
    "#     weights = np.insert(w,0,1) #SLET DET HER\n",
    "    \n",
    "#     return weights\n",
    "    return w"
   ]
  },
  {
   "cell_type": "markdown",
   "metadata": {},
   "source": [
    "Next the linear regression function is run on a version of the redwine training dataset that only contains the first feature (the fixed acidity)."
   ]
  },
  {
   "cell_type": "code",
   "execution_count": 3,
   "metadata": {},
   "outputs": [
    {
     "data": {
      "text/plain": [
       "array([5.2057261 , 0.05035934])"
      ]
     },
     "execution_count": 3,
     "metadata": {},
     "output_type": "execute_result"
    }
   ],
   "source": [
    "#import redwine dataset \n",
    "wine_train = np.loadtxt('redwine_training.txt')\n",
    "#define the first feature (fixed acidity)\n",
    "acidity = wine_train[:,0]\n",
    "#define the output values (quality)\n",
    "quality = wine_train[:,-1]\n",
    "\n",
    "#run regression function to get the free parameters\n",
    "weights = multivarlinreg(acidity, quality)\n",
    "weights"
   ]
  },
  {
   "cell_type": "markdown",
   "metadata": {},
   "source": [
    "The weight of the acidity in the weighted sum of parameters contributing to the quality of the redwine is 0.05. As it is positive, a fixed acidity positively affects the quality of the wine. \n",
    "\n",
    "Next the linear regression function is run on the entire redwine training dataset"
   ]
  },
  {
   "cell_type": "code",
   "execution_count": 4,
   "metadata": {},
   "outputs": [
    {
     "data": {
      "text/plain": [
       "array([ 5.16573717e+01,  1.95852727e-02, -1.06193618e+00,  2.58896285e-02,\n",
       "        5.02281634e-02, -2.75489463e+00,  5.65346092e-03, -3.80728880e-03,\n",
       "       -4.72092423e+01, -4.26639379e-01,  8.50478130e-01,  2.37895900e-01])"
      ]
     },
     "execution_count": 4,
     "metadata": {},
     "output_type": "execute_result"
    }
   ],
   "source": [
    "#define the matrix of wine properties\n",
    "props = wine_train[:,:-1]\n",
    "\n",
    "#run regression function to get the free parameters\n",
    "weights = multivarlinreg(props, quality)\n",
    "weights"
   ]
  },
  {
   "cell_type": "markdown",
   "metadata": {},
   "source": [
    "The relative weight of the different parameters show how much they each relatively contribute to the quality of the wine. "
   ]
  },
  {
   "cell_type": "markdown",
   "metadata": {},
   "source": [
    "# Exercise 3 {-}"
   ]
  },
  {
   "cell_type": "markdown",
   "metadata": {},
   "source": [
    "In exercise 3 the accuracy of the multivariate linear regression function from exercise 2 is tested by computing the root mean square error (RMSE). The RMSE-function compares the true values of the dependent variable to the values of the dependent values that were computed using the weights from the multivariate linear regression function. \n",
    "\n",
    "First the RMSE-function is defined. "
   ]
  },
  {
   "cell_type": "code",
   "execution_count": 5,
   "metadata": {},
   "outputs": [],
   "source": [
    "def rmse(f,t):\n",
    "#     rmse = np.sqrt(sum((t[i]-f[i])**2 for i in range(len(f)))/len(f))\n",
    "    rmse = np.sqrt(np.sum((t-f)**2)/len(t))\n",
    "    \n",
    "    return rmse"
   ]
  },
  {
   "cell_type": "code",
   "execution_count": 6,
   "metadata": {},
   "outputs": [],
   "source": [
    "def linear_model(x, w):\n",
    "    if x.ndim == 1:\n",
    "        x = x.reshape(-1,1)\n",
    "    x = np.append(np.ones((x.shape[0],1)), x, axis=1)\n",
    "    y = w.T@x.T\n",
    "    \n",
    "    return y"
   ]
  },
  {
   "cell_type": "code",
   "execution_count": 7,
   "metadata": {},
   "outputs": [
    {
     "name": "stdout",
     "output_type": "stream",
     "text": [
      "The root mean square error of the regression funcion using just one dimension of the training dataset is 0.7860892754162229\n"
     ]
    }
   ],
   "source": [
    "#compute RMSE for 1D input of redwine dataset\n",
    "wine_test = np.loadtxt('redwine_testing.txt')\n",
    "acidity_test = wine_test[:,0]\n",
    "quality_test = wine_test[:,-1]\n",
    "\n",
    "acidity_train = wine_train[:,0]\n",
    "quality_train = wine_train[:,-1]\n",
    "weights = multivarlinreg(acidity_train, quality_train)\n",
    "\n",
    "\n",
    "# predicted_quality = weights[0]+acidity*weights[1]\n",
    "predicted_quality = linear_model(acidity_test, weights)\n",
    "print('The root mean square error of the regression funcion using just one dimension of the training dataset is ' +str(rmse(predicted_quality, quality_test)))"
   ]
  },
  {
   "cell_type": "code",
   "execution_count": 8,
   "metadata": {},
   "outputs": [
    {
     "name": "stdout",
     "output_type": "stream",
     "text": [
      "The root mean square error of the regression funcion using the full training dataset is 0.644717277302212\n"
     ]
    }
   ],
   "source": [
    "#compute RMSE for full redwine dataset\n",
    "props_train = wine_train[:,:-1]\n",
    "props_test = wine_test[:,:-1]\n",
    "weights = multivarlinreg(props_train, quality_train)\n",
    "\n",
    "predicted_quality = linear_model(props_test, weights)\n",
    "print('The root mean square error of the regression funcion using the full training dataset is ' +str(rmse(predicted_quality, quality_test)))"
   ]
  },
  {
   "cell_type": "markdown",
   "metadata": {},
   "source": [
    "The root mean square error of the regression function is smaller when using the complete training dataset instead of just using one dimension of the training dataset. "
   ]
  },
  {
   "cell_type": "markdown",
   "metadata": {},
   "source": [
    "# Exercise 4 {-}"
   ]
  },
  {
   "cell_type": "markdown",
   "metadata": {},
   "source": [
    "In exercise 4 it is discussed how normalizing data beforehand affects a random forest classifier.\n",
    "\n",
    "A random forest classifier is a classifier that is based on a number of different decision trees. Decision trees are not based on any euclidian distances so no normalizing is needed for decision trees nor for a random forest classifier. Normalizing data to zero mean and unit variance before performing random forest classificiation makes no difference compared to not normalizing the data beforehand. "
   ]
  },
  {
   "cell_type": "markdown",
   "metadata": {},
   "source": [
    "# Exercise 5 {-}"
   ]
  },
  {
   "cell_type": "markdown",
   "metadata": {},
   "source": [
    "In excerise 5 random forest classification is performed on the pesticide dataset from previous assignments using scikit-learn's random forest classifier function. \n",
    "\n",
    "First the random forest classifier function is imported. "
   ]
  },
  {
   "cell_type": "code",
   "execution_count": 9,
   "metadata": {},
   "outputs": [],
   "source": [
    "#import random forest function\n",
    "from sklearn.ensemble import RandomForestClassifier"
   ]
  },
  {
   "cell_type": "markdown",
   "metadata": {},
   "source": [
    "Next a random forest of 50 trees is trained using the pesticide training set. "
   ]
  },
  {
   "cell_type": "code",
   "execution_count": 10,
   "metadata": {},
   "outputs": [],
   "source": [
    "#import pesticide training dataset\n",
    "PestTrain = np.loadtxt('IDSWeedCropTrain.csv', delimiter=',')\n",
    "XTrain = PestTrain[:,:-1]\n",
    "YTrain = PestTrain[:,-1]\n",
    "\n",
    "#train the random forest\n",
    "forest=RandomForestClassifier(n_estimators=50)\n",
    "forest.fit(XTrain, YTrain)\n",
    "\n",
    "#use the random forest to predict pesticide test data\n",
    "PestTest = np.loadtxt('IDSWeedCropTest.csv', delimiter=',')\n",
    "XTest = PestTest[:,:-1]\n",
    "Predicted_YTest = forest.predict(XTest)"
   ]
  },
  {
   "cell_type": "markdown",
   "metadata": {},
   "source": [
    "Next the accuracy of the random forest classifier is computed by comparing the predicted value of YTest to the true values. "
   ]
  },
  {
   "cell_type": "code",
   "execution_count": 11,
   "metadata": {},
   "outputs": [
    {
     "name": "stdout",
     "output_type": "stream",
     "text": [
      "The prediction accuracy of the random forest is 0.9721254355400697\n"
     ]
    }
   ],
   "source": [
    "#define true YTest values\n",
    "YTest = PestTest[:,-1]\n",
    "\n",
    "#compare predicted and true values\n",
    "compare = []\n",
    "for i in range(len(YTest)):\n",
    "    if Predicted_YTest[i] == YTest[i]:\n",
    "        compare.append(1)\n",
    "\n",
    "accuracy = sum(compare)/len(YTest)\n",
    "print('The prediction accuracy of the random forest is ' +str(accuracy))"
   ]
  },
  {
   "cell_type": "markdown",
   "metadata": {},
   "source": [
    "# Exercise 6 {-}"
   ]
  },
  {
   "cell_type": "markdown",
   "metadata": {},
   "source": [
    "In exercise 6 gradient descend is applied to compute the minimum of the function $f(x)=exp(-x/2)+10x^2$. \n"
   ]
  },
  {
   "cell_type": "code",
   "execution_count": 12,
   "metadata": {},
   "outputs": [],
   "source": [
    "#define gradient descend function\n",
    "def gradient_descend(rate):\n",
    "    #initialize parameters\n",
    "    cur_x = 1 #the algorithm starts at x=1\n",
    "    min_gradient = 10**(-10) \n",
    "    max_iters = 10000 \n",
    "    iters = 0 #iteration counter\n",
    "    df = lambda x: 20*x-np.exp(-x/2)/2  #derivative of the function\n",
    "    xs = []\n",
    "    xs.append(cur_x)\n",
    "\n",
    "    #apply gradient descend\n",
    "    while abs(df(cur_x)) >= min_gradient and iters < max_iters:\n",
    "        prev_x = cur_x \n",
    "        cur_x = cur_x-rate*df(prev_x) #gradient descent\n",
    "        iters = iters+1 \n",
    "        xs.append(cur_x)\n",
    "        \n",
    "    return cur_x, iters, np.array(xs)     \n",
    "\n",
    "#define function\n",
    "def f(x):\n",
    "    return np.exp(-x/2)+10*x**2\n",
    "\n",
    "#define plotting function \n",
    "def plot_gradient_descend(rate):\n",
    "    cur_x, iters, xs = gradient_descend(rate)\n",
    "\n",
    "    #define function, derivatie and plotting range\n",
    "    y = lambda x: np.exp(-x/2)+10*x**2\n",
    "    df = lambda x: 20*x-np.exp(-x/2)/2\n",
    "    x = np.linspace(-1,1,101)\n",
    "    \n",
    "    #define tangent for plotting\n",
    "    def tan(x,x1,y1):\n",
    "        return df(x1)*(x-x1)+y1\n",
    "    \n",
    "    #plot first four gradient descend steps with tangents\n",
    "    plt.figure()\n",
    "    plt.plot(x,y(x),c='k')\n",
    "    for i in xs[:4]:\n",
    "        tan_range = np.linspace(i-0.2, i+0.2, 10)\n",
    "        plt.plot(tan_range, tan(tan_range,i,y(i)), 'b')\n",
    "        plt.plot(i,y(i),'ro')\n",
    "    plt.xlabel('x')\n",
    "    plt.ylabel('f(x)')\n",
    "    plt.title('First four gradient descend steps with \\n learning rate '+str(rate)+' and corresponding tangents')\n",
    "    \n",
    "    #plot first ten gradient descend steps\n",
    "    plt.figure()\n",
    "    plt.plot(x,y(x),c='k')\n",
    "    plt.plot(xs[:10],y(xs[:10]),'ro')\n",
    "    plt.xlabel('x')\n",
    "    plt.ylabel('f(x)')\n",
    "    plt.title('First ten gradient descend steps with \\n learning rate '+str(rate))\n",
    "    plt.show()\n",
    "    \n",
    "    return 'For a learning rate at '+str(rate)+' the local minimum occurs at '+ str(cur_x)+ ' after '+str(iters)+' iterations. The function value at the local minimum is '+ str(f(cur_x))"
   ]
  },
  {
   "cell_type": "code",
   "execution_count": 13,
   "metadata": {},
   "outputs": [
    {
     "name": "stderr",
     "output_type": "stream",
     "text": [
      "C:\\Users\\amali\\Anaconda3\\lib\\site-packages\\ipykernel_launcher.py:8: RuntimeWarning: overflow encountered in exp\n",
      "  \n",
      "C:\\Users\\amali\\Anaconda3\\lib\\site-packages\\ipykernel_launcher.py:15: RuntimeWarning: invalid value encountered in double_scalars\n",
      "  from ipykernel import kernelapp as app\n"
     ]
    },
    {
     "data": {
      "image/png": "[encoded data removed]",
      "text/plain": [
       "<Figure size 288x216 with 1 Axes>"
      ]
     },
     "metadata": {
      "needs_background": "light"
     },
     "output_type": "display_data"
    },
    {
     "data": {
      "image/png": "[encoded data removed]",
      "text/plain": [
       "<Figure size 288x216 with 1 Axes>"
      ]
     },
     "metadata": {
      "needs_background": "light"
     },
     "output_type": "display_data"
    },
    {
     "name": "stdout",
     "output_type": "stream",
     "text": [
      "For a learning rate at 0.1 the local minimum occurs at nan after 69 iterations. The function value at the local minimum is nan\n"
     ]
    }
   ],
   "source": [
    "#for learning rate 0.1\n",
    "rate = 0.1\n",
    "print(plot_gradient_descend(rate))"
   ]
  },
  {
   "cell_type": "markdown",
   "metadata": {},
   "source": [
    "The learning rate of 0.1 is too large so the gradient function is unable to compute a minimum for the function. "
   ]
  },
  {
   "cell_type": "code",
   "execution_count": 14,
   "metadata": {},
   "outputs": [
    {
     "data": {
      "image/png": "[encoded data removed]",
      "text/plain": [
       "<Figure size 288x216 with 1 Axes>"
      ]
     },
     "metadata": {
      "needs_background": "light"
     },
     "output_type": "display_data"
    },
    {
     "data": {
      "image/png": "[encoded data removed]",
      "text/plain": [
       "<Figure size 288x216 with 1 Axes>"
      ]
     },
     "metadata": {
      "needs_background": "light"
     },
     "output_type": "display_data"
    },
    {
     "name": "stdout",
     "output_type": "stream",
     "text": [
      "For a learning rate at 0.01 the local minimum occurs at 0.024693232270265097 after 115 iterations. The function value at the local minimum is 0.993826847811084\n"
     ]
    }
   ],
   "source": [
    "#for learning rate 0.01\n",
    "rate = 0.01\n",
    "print(plot_gradient_descend(rate))"
   ]
  },
  {
   "cell_type": "code",
   "execution_count": 15,
   "metadata": {},
   "outputs": [
    {
     "data": {
      "image/png": "[encoded data removed]",
      "text/plain": [
       "<Figure size 288x216 with 1 Axes>"
      ]
     },
     "metadata": {
      "needs_background": "light"
     },
     "output_type": "display_data"
    },
    {
     "data": {
      "image/png": "[encoded data removed]",
      "text/plain": [
       "<Figure size 288x216 with 1 Axes>"
      ]
     },
     "metadata": {
      "needs_background": "light"
     },
     "output_type": "display_data"
    },
    {
     "data": {
      "text/plain": [
       "'For a learning rate at 0.001 the local minimum occurs at 0.024693232270255352 after 1272 iterations. The function value at the local minimum is 0.9938268478110839'"
      ]
     },
     "execution_count": 15,
     "metadata": {},
     "output_type": "execute_result"
    }
   ],
   "source": [
    "#for learning rate 0.001\n",
    "rate = 0.001\n",
    "plot_gradient_descend(rate)"
   ]
  },
  {
   "cell_type": "code",
   "execution_count": 16,
   "metadata": {},
   "outputs": [
    {
     "data": {
      "image/png": "[encoded data removed]",
      "text/plain": [
       "<Figure size 288x216 with 1 Axes>"
      ]
     },
     "metadata": {
      "needs_background": "light"
     },
     "output_type": "display_data"
    },
    {
     "data": {
      "image/png": "[encoded data removed]",
      "text/plain": [
       "<Figure size 288x216 with 1 Axes>"
      ]
     },
     "metadata": {
      "needs_background": "light"
     },
     "output_type": "display_data"
    },
    {
     "data": {
      "text/plain": [
       "'For a learning rate at 0.0001 the local minimum occurs at 0.024693233808097063 after 10000 iterations. The function value at the local minimum is 0.993826847811084'"
      ]
     },
     "execution_count": 16,
     "metadata": {},
     "output_type": "execute_result"
    }
   ],
   "source": [
    "#for learning rate 0.0001\n",
    "rate=0.0001\n",
    "plot_gradient_descend(rate)"
   ]
  },
  {
   "cell_type": "markdown",
   "metadata": {},
   "source": [
    "For a learning rate at 0.0001 the function does not converge before the maximum number of iterations is reached."
   ]
  },
  {
   "cell_type": "markdown",
   "metadata": {},
   "source": [
    "# Exercise 7 {-}"
   ]
  },
  {
   "cell_type": "markdown",
   "metadata": {},
   "source": [
    "In exercise 7 logistic regression will be run and tested on the two Iris datasets. \n",
    "\n",
    "First the datasets are plotted with data points colored according to class. "
   ]
  },
  {
   "cell_type": "code",
   "execution_count": 17,
   "metadata": {},
   "outputs": [],
   "source": [
    "#import both Iris datasets\n",
    "iris1train = np.loadtxt('Iris2D1_train.txt')\n",
    "iris1test = np.loadtxt('Iris2D1_test.txt')\n",
    "iris2train = np.loadtxt('Iris2D2_train.txt')\n",
    "iris2test= np.loadtxt('Iris2D2_test.txt')"
   ]
  },
  {
   "cell_type": "code",
   "execution_count": 18,
   "metadata": {},
   "outputs": [
    {
     "data": {
      "image/png": "[encoded data removed]",
      "text/plain": [
       "<Figure size 288x216 with 1 Axes>"
      ]
     },
     "metadata": {
      "needs_background": "light"
     },
     "output_type": "display_data"
    }
   ],
   "source": [
    "#plot first iris dataset\n",
    "class0train = iris1train[:,:2][iris1train[:,2] == 0]\n",
    "class1train = iris1train[:,:2][iris1train[:,2] == 1]\n",
    "class0test = iris1test[:,:2][iris1test[:,2] == 0]\n",
    "class1test = iris1test[:,:2][iris1test[:,2] == 1]\n",
    "\n",
    "plt.figure()\n",
    "plt.scatter(*np.concatenate((class0train, class0test)).T, c='r', label='Iris Virginica')\n",
    "plt.scatter(*np.concatenate((class1train, class1test)).T, c='b', label='Iris Versicolor')\n",
    "plt.xlabel('Sepal length (cm)')\n",
    "plt.ylabel('Petal length (cm)')\n",
    "plt.title('Iris2D1 data \\n colored according to class')\n",
    "plt.legend()\n",
    "plt.show()"
   ]
  },
  {
   "cell_type": "code",
   "execution_count": 19,
   "metadata": {},
   "outputs": [
    {
     "data": {
      "image/png": "[encoded data removed]",
      "text/plain": [
       "<Figure size 288x216 with 1 Axes>"
      ]
     },
     "metadata": {
      "needs_background": "light"
     },
     "output_type": "display_data"
    }
   ],
   "source": [
    "#plot second iris dataset\n",
    "class0train = iris2train[:,:2][iris2train[:,2] == 0]\n",
    "class1train = iris2train[:,:2][iris2train[:,2] == 1]\n",
    "class0test = iris2test[:,:2][iris2test[:,2] == 0]\n",
    "class1test = iris2test[:,:2][iris2test[:,2] == 1]\n",
    "\n",
    "plt.figure()\n",
    "plt.scatter(*np.concatenate((class0train, class0test)).T, c='r', label='Iris Setosa')\n",
    "plt.scatter(*np.concatenate((class1train, class1test)).T, c='b', label='Iris Virginica')\n",
    "plt.xlabel('Sepal length (cm)')\n",
    "plt.ylabel('Sepal width (cm)')\n",
    "plt.title('Iris2D2 data \\n colored according to class')\n",
    "plt.legend()\n",
    "plt.show()"
   ]
  },
  {
   "cell_type": "markdown",
   "metadata": {},
   "source": [
    "Next, the functions needed for logistic regression are defined. "
   ]
  },
  {
   "cell_type": "code",
   "execution_count": 20,
   "metadata": {},
   "outputs": [],
   "source": [
    "#define functions for logistic regression\n",
    "def log1px(x):\n",
    "    return (x >= 0)*x + (np.log(1 + np.exp(-np.abs(x))))\n",
    "\n",
    "\n",
    "def logistic(x):\n",
    "    xp = (x >  0)*1.0\n",
    "    xm = (x <= 0)*1.0\n",
    "    return xm*(np.exp(x*xm))/(1 + np.exp(x*xm)) + xp*(1/(1 + np.exp(-xp*x)))\n",
    "\n",
    "\n",
    "def logistic_insample(X, y, w):\n",
    "    N, num_feat = X.shape\n",
    "    E = 0\n",
    "    for n in range(N):\n",
    "        E = E + log1px(-y[n]*(X[n]@w))\n",
    "    return E\n",
    "\n",
    "\n",
    "def logistic_gradient(X, y, w):\n",
    "    N, _ = X.shape\n",
    "    g = 0*w\n",
    "    \n",
    "    for n in range(N):\n",
    "        g = g - y[n]*logistic(-y[n]*(X[n]@w))*X[n]\n",
    "    return g/N\n",
    "\n",
    "\n",
    "def log_reg(Xorig, y, max_iter, grad_thr):   \n",
    "    \n",
    "    num_pts, num_feat = Xorig.shape\n",
    "    onevec = np.ones((num_pts,1))\n",
    "    X = np.concatenate((onevec, Xorig), axis = 1)\n",
    "    dplus1 = num_feat + 1\n",
    "    y = np.array((y-.5)*2)\n",
    "        \n",
    "    # Initialize learning rate for gradient descent\n",
    "    learningrate = 0.1        \n",
    "    \n",
    "    # Initialize weights at time step 0  \n",
    "    np.random.seed(42)\n",
    "    w = 0.1*np.random.randn(num_feat + 1)\n",
    "    \n",
    "    # Compute value of logistic log likelihood\n",
    "    value = logistic_insample(X,y,w)\n",
    "    \n",
    "    num_iter = 0  \n",
    "    convergence = 0\n",
    "    \n",
    "    # Keep track of function values\n",
    "    E_in = []\n",
    "    \n",
    "    while convergence == 0:\n",
    "        num_iter = num_iter + 1                        \n",
    "\n",
    "        # Compute gradient at current w      \n",
    "        g = logistic_gradient(X,y,w)\n",
    "       \n",
    "        # Set direction to move and take a step       \n",
    "        w_new = w - learningrate*g\n",
    "        \n",
    "        # Compute in-sample error for new w\n",
    "        cur_value = logistic_insample(X,y,w_new)\n",
    "        if cur_value < value:\n",
    "            w = w_new\n",
    "            value = cur_value\n",
    "            E_in.append(value)\n",
    "            learningrate *=1.1\n",
    "        else:\n",
    "            learningrate *= 0.9   \n",
    "            \n",
    "        # Determine whether we have converged    \n",
    "        g_norm = np.linalg.norm(g)\n",
    "        if g_norm < grad_thr:\n",
    "            convergence = 1\n",
    "        elif num_iter > max_iter:\n",
    "            convergence = 1\n",
    "           \n",
    "    return w, E_in \n",
    "\n",
    "\n",
    "def log_pred(Xorig, w):\n",
    "    N, d = Xorig.shape\n",
    "    # add a first column with ones\n",
    "    N1 = np.reshape(np.ones(N), (N, 1))\n",
    "    X = np.hstack((N1, Xorig))\n",
    "    # if the logistic function on w^T X[n] is >= 0.5, label 1 else label -1\n",
    "    P = np.zeros(N)\n",
    "    pred_classes = np.zeros_like(P, dtype=int)\n",
    "    for n in range(N):\n",
    "        P[n] = logistic(w @ X[n])\n",
    "        pred_classes[n] = -1 if P[n] < 0.5 else 1\n",
    "    return P, pred_classes"
   ]
  },
  {
   "cell_type": "markdown",
   "metadata": {},
   "source": [
    "Next, logistic regression is applied to the first iris dataset and the training and test error is measured by the 0-1 loss. "
   ]
  },
  {
   "cell_type": "code",
   "execution_count": 21,
   "metadata": {},
   "outputs": [
    {
     "name": "stdout",
     "output_type": "stream",
     "text": [
      "The three model parameters are [-12.6948303   -4.61064838   8.40942812]\n",
      "The training error rate for the first dataset is 0.05714285714285714\n",
      "The test error rate for the first dataset is 0.06666666666666667\n"
     ]
    }
   ],
   "source": [
    "#find w's for first iris dataset\n",
    "w, E = log_reg(iris1train[:,:2], iris1train[:,2], 10000, 0.0000001)\n",
    "print('The three model parameters are ' + str(w))\n",
    "\n",
    "#find training error rate for first iris dataset\n",
    "N_train = len(iris1train[:,:2])\n",
    "pred_classes_train = (log_pred(iris1train[:,:2], w)[1])/2+0.5\n",
    "errors_train = np.sum([np.abs(pred_classes_train[i] - iris1train[:,2][i]) for i in range(len(pred_classes_train))])\n",
    "error_rate_train = errors_train/N_train\n",
    "print('The training error rate for the first dataset is ' + str(error_rate_train))\n",
    "\n",
    "#find test error rate for first iris dataset\n",
    "N_test = len(iris1test[:,:2])\n",
    "pred_classes_test = (log_pred(iris1test[:,:2], w)[1])/2+0.5\n",
    "errors_test = np.sum([np.abs(pred_classes_test[i]-iris1test[:,2][i]) for i in range(len(pred_classes_test))])\n",
    "error_rate_test = errors_test/N_test\n",
    "print('The test error rate for the first dataset is ' + str(error_rate_test))\n"
   ]
  },
  {
   "cell_type": "markdown",
   "metadata": {},
   "source": [
    "Finally, logistic regression is also applied to the second iris dataset and the training and test error rates are again measured by the 0-1 loss. "
   ]
  },
  {
   "cell_type": "code",
   "execution_count": 22,
   "metadata": {},
   "outputs": [
    {
     "name": "stdout",
     "output_type": "stream",
     "text": [
      "The three model parameters are [-28.94257781  12.67082293 -12.68334242]\n",
      "The training error rate for the second dataset is 0.0\n",
      "The test error rate for the second dataset is 0.0\n"
     ]
    }
   ],
   "source": [
    "#find w's for second iris dataset\n",
    "w, E = log_reg(iris2train[:,:2], iris2train[:,2], 10000, 0.0000001)\n",
    "print('The three model parameters are ' + str(w))\n",
    "\n",
    "#find training error rate for second iris dataset\n",
    "N_train = len(iris2train[:,:2])\n",
    "pred_classes_train = (log_pred(iris2train[:,:2], w)[1])/2+0.5\n",
    "errors_train = np.sum([np.abs(pred_classes_train[i] - iris2train[:,2][i]) for i in range(len(pred_classes_train))])\n",
    "error_rate_train = errors_train/N_train\n",
    "print('The training error rate for the second dataset is ' + str(error_rate_train))\n",
    "\n",
    "#find test error rate for second iris dataset\n",
    "N_test = len(iris2test[:,:2])\n",
    "pred_classes_test = (log_pred(iris2test[:,:2], w)[1])/2+0.5\n",
    "errors_test = np.sum([np.abs(pred_classes_test[i]-iris2test[:,2][i]) for i in range(len(pred_classes_test))])\n",
    "error_rate_test = errors_test/N_test\n",
    "print('The test error rate for the second dataset is ' + str(error_rate_test))"
   ]
  },
  {
   "cell_type": "markdown",
   "metadata": {},
   "source": [
    "Both the training and test error rates for the second iris dataset are 0. Considering the plot of the second dataset the low error rates make sense since the dataset visually looks very easily linearly separable. "
   ]
  },
  {
   "cell_type": "markdown",
   "metadata": {},
   "source": [
    "# Exercise 8 {-}"
   ]
  },
  {
   "cell_type": "markdown",
   "metadata": {},
   "source": [
    "I choose to skip this exercise."
   ]
  },
  {
   "cell_type": "markdown",
   "metadata": {},
   "source": [
    "# Exercise 9a {-}"
   ]
  },
  {
   "cell_type": "markdown",
   "metadata": {},
   "source": [
    "In exercise 9a the a small amount of the MNIST data is clustered using k-means clustering with k = 3. The 3-means clustering function used is a modified versions of the one used in Assignment 3 to perform 2-means clustering. \n",
    "\n",
    "First the three initial cluster centers are defined as three random points. Next the distances from each data point to each of the three cluster centers are computed and each datapoint is assigned to the closest cluster center. The new cluster center for each of the two clusters is then defined as the mean of the points belonging to that cluster. With new cluster centers defined the algorithm is repeated until the cluster centers no longer change. The 3-means clustering will return labels 0, 1 and 2 so in order to compare the labels from clustering with the labels from the labels.txt file, for each data point either a 1, 7 or 9 is appended to a list of clustering labels depending on what cluster the datapoint belongs to. "
   ]
  },
  {
   "cell_type": "code",
   "execution_count": 23,
   "metadata": {},
   "outputs": [],
   "source": [
    "#define 3-means clustering function\n",
    "def clust_3means (A,B):\n",
    "    \n",
    "    #define random initial cluster centers\n",
    "    np.random.seed(42)\n",
    "    cen1 = A[np.random.randint(0,len(A))]\n",
    "    cen2 = A[np.random.randint(0,len(A))]\n",
    "    cen3 = A[np.random.randint(0,len(A))]\n",
    "    \n",
    "    #repeat the 3-means clustering until cluster centers are unchanged \n",
    "    for n in range(20):\n",
    "        clust1 = []\n",
    "        clust2 = []\n",
    "        clust3 = []\n",
    "        lab1 = [] #empty lists for labels\n",
    "        lab2 = []\n",
    "        lab3 = []\n",
    "        clust_index = []\n",
    "        oldcen1 = cen1\n",
    "        oldcen2 = cen2\n",
    "        oldcen3 = cen3\n",
    "        #assign each data point to a cluster\n",
    "        for i in range(len(A)):\n",
    "            #distance between data point and cluster center 1\n",
    "            dist1 = np.sqrt(sum((A[i][m]-cen1[m])**2 for m in range(len(A[0]))))\n",
    "            #distance between data point and cluster center 2\n",
    "            dist2 = np.sqrt(sum((A[i][m]-cen2[m])**2 for m in range(len(A[0]))))\n",
    "            #distance between data point and cluster center 3\n",
    "            dist3 = np.sqrt(sum((A[i][m]-cen3[m])**2 for m in range(len(A[0]))))\n",
    "            if dist1 < dist2 and dist1 < dist3:\n",
    "                clust1.append(A[i])\n",
    "                lab1.append(B[i])\n",
    "                clust_index.append(1)\n",
    "            if dist2 < dist1 and dist2 < dist3:\n",
    "                clust2.append(A[i])\n",
    "                lab2.append(B[i])\n",
    "                clust_index.append(2)\n",
    "            if dist3 < dist1 and dist3 < dist2:\n",
    "                clust3.append(A[i])\n",
    "                lab3.append(B[i])\n",
    "                clust_index.append(3)\n",
    "\n",
    "        cen1 = np.array([np.mean(np.array(clust1)[:,i]) for i in range(len(clust1[0]))])\n",
    "        cen2 = np.array([np.mean(np.array(clust2)[:,i]) for i in range(len(clust2[0]))])\n",
    "        cen3 = np.array([np.mean(np.array(clust3)[:,i]) for i in range(len(clust3[0]))])\n",
    "\n",
    "        if np.array_equal([cen1,cen2,cen3], [oldcen1,oldcen2,oldcen3]) == True:\n",
    "            break\n",
    "    \n",
    "    return cen1, cen2, cen3, clust1, clust2, clust3, lab1, lab2, lab3, np.array(clust_index)"
   ]
  },
  {
   "cell_type": "markdown",
   "metadata": {},
   "source": [
    "Next, the MNIST data is imported as the digits and labels."
   ]
  },
  {
   "cell_type": "code",
   "execution_count": 24,
   "metadata": {},
   "outputs": [],
   "source": [
    "#import digits and labels\n",
    "digits = np.loadtxt('MNIST_179_digits.txt')\n",
    "labels = np.loadtxt('MNIST_179_labels.txt')"
   ]
  },
  {
   "cell_type": "markdown",
   "metadata": {},
   "source": [
    "Then 3-means clustering is performed on the digits data set. "
   ]
  },
  {
   "cell_type": "code",
   "execution_count": 25,
   "metadata": {},
   "outputs": [],
   "source": [
    "#perform 3-means clustering on digits data\n",
    "cen1, cen2, cen3, clust1, clust2, clust3, lab1, lab2, lab3, clust_index = clust_3means(digits, labels)"
   ]
  },
  {
   "cell_type": "markdown",
   "metadata": {},
   "source": [
    "The first cluster center is then plotted as an image and the percentages of 1, 7 and 9 in the first cluster is computed. "
   ]
  },
  {
   "cell_type": "code",
   "execution_count": 26,
   "metadata": {},
   "outputs": [
    {
     "data": {
      "image/png": "[encoded data removed]",
      "text/plain": [
       "<Figure size 288x216 with 1 Axes>"
      ]
     },
     "metadata": {
      "needs_background": "light"
     },
     "output_type": "display_data"
    },
    {
     "name": "stdout",
     "output_type": "stream",
     "text": [
      "The percentage of 1s in cluster 1 is 89.83050847457628 %.\n",
      "The percentage of 7s in cluster 1 is 7.74818401937046 %.\n",
      "The percentage of 9s in cluster 1 is 2.4213075060532687 %.\n"
     ]
    }
   ],
   "source": [
    "#plot cluster 1 as image\n",
    "plt.imshow(cen1.reshape(28,28))\n",
    "plt.xlabel('a.u.')\n",
    "plt.ylabel('a.u.')\n",
    "plt.title('Visualisation of cluster center 1')\n",
    "plt.show()\n",
    "\n",
    "#compute percentage of each digit in cluster 1\n",
    "ratio1 = np.unique(lab1, return_counts=True)[1][0]/sum(np.unique(lab1, return_counts=True)[1])\n",
    "ratio7 = np.unique(lab1, return_counts=True)[1][1]/sum(np.unique(lab1, return_counts=True)[1])\n",
    "ratio9 = np.unique(lab1, return_counts=True)[1][2]/sum(np.unique(lab1, return_counts=True)[1])\n",
    "\n",
    "print('The percentage of 1s in cluster 1 is '+str(ratio1*100)+' %.')\n",
    "print('The percentage of 7s in cluster 1 is '+str(ratio7*100)+' %.')\n",
    "print('The percentage of 9s in cluster 1 is '+str(ratio9*100)+' %.')"
   ]
  },
  {
   "cell_type": "markdown",
   "metadata": {},
   "source": [
    "Likewise for cluster 2 the cluster center is plotted as an image and the percentages of 1, 7 and 9 in cluster 2 is computed. "
   ]
  },
  {
   "cell_type": "code",
   "execution_count": 27,
   "metadata": {},
   "outputs": [
    {
     "data": {
      "image/png": "[encoded data removed]",
      "text/plain": [
       "<Figure size 288x216 with 1 Axes>"
      ]
     },
     "metadata": {
      "needs_background": "light"
     },
     "output_type": "display_data"
    },
    {
     "name": "stdout",
     "output_type": "stream",
     "text": [
      "The percentage of 1s in cluster 2 is 0.2717391304347826 %.\n",
      "The percentage of 7s in cluster 2 is 62.22826086956522 %.\n",
      "The percentage of 9s in cluster 2 is 37.5 %.\n"
     ]
    }
   ],
   "source": [
    "#plot cluster 2 as image\n",
    "plt.imshow(cen2.reshape(28,28))\n",
    "plt.xlabel('a.u.')\n",
    "plt.ylabel('a.u.')\n",
    "plt.title('Visualisation of cluster center 2')\n",
    "plt.show()\n",
    "\n",
    "#compute percentage of each digit in cluster 2\n",
    "ratio1 = np.unique(lab2, return_counts=True)[1][0]/sum(np.unique(lab2, return_counts=True)[1])\n",
    "ratio7 = np.unique(lab2, return_counts=True)[1][1]/sum(np.unique(lab2, return_counts=True)[1])\n",
    "ratio9 = np.unique(lab2, return_counts=True)[1][2]/sum(np.unique(lab2, return_counts=True)[1])\n",
    "\n",
    "print('The percentage of 1s in cluster 2 is '+str(ratio1*100)+' %.')\n",
    "print('The percentage of 7s in cluster 2 is '+str(ratio7*100)+' %.')\n",
    "print('The percentage of 9s in cluster 2 is '+str(ratio9*100)+' %.')"
   ]
  },
  {
   "cell_type": "markdown",
   "metadata": {},
   "source": [
    "For cluster 3 as well, the cluster center is plotted as an image and the percentages of 1, 7 and 9 in cluster 3 is computed."
   ]
  },
  {
   "cell_type": "code",
   "execution_count": 28,
   "metadata": {},
   "outputs": [
    {
     "data": {
      "image/png": "[encoded data removed]",
      "text/plain": [
       "<Figure size 288x216 with 1 Axes>"
      ]
     },
     "metadata": {
      "needs_background": "light"
     },
     "output_type": "display_data"
    },
    {
     "name": "stdout",
     "output_type": "stream",
     "text": [
      "The percentage of 1s in cluster 3 is 0.872093023255814 %.\n",
      "The percentage of 7s in cluster 3 is 33.13953488372093 %.\n",
      "The percentage of 9s in cluster 3 is 65.98837209302324 %.\n"
     ]
    }
   ],
   "source": [
    "#plot cluster 3 as image\n",
    "plt.imshow(cen3.reshape(28,28))\n",
    "plt.xlabel('a.u.')\n",
    "plt.ylabel('a.u.')\n",
    "plt.title('Visualisation of cluster center 3')\n",
    "plt.show()\n",
    "\n",
    "#compute percentage of each digit in cluster 3\n",
    "ratio1 = np.unique(lab3, return_counts=True)[1][0]/sum(np.unique(lab3, return_counts=True)[1])\n",
    "ratio7 = np.unique(lab3, return_counts=True)[1][1]/sum(np.unique(lab3, return_counts=True)[1])\n",
    "ratio9 = np.unique(lab3, return_counts=True)[1][2]/sum(np.unique(lab3, return_counts=True)[1])\n",
    "\n",
    "print('The percentage of 1s in cluster 3 is '+str(ratio1*100)+' %.')\n",
    "print('The percentage of 7s in cluster 3 is '+str(ratio7*100)+' %.')\n",
    "print('The percentage of 9s in cluster 3 is '+str(ratio9*100)+' %.')"
   ]
  },
  {
   "cell_type": "markdown",
   "metadata": {},
   "source": [
    "For each cluster the plot of the cluster center visually looks like the digit that is represented with the highest percentage in the cluster."
   ]
  },
  {
   "cell_type": "markdown",
   "metadata": {},
   "source": [
    "# Exercise 9b {-}"
   ]
  },
  {
   "cell_type": "markdown",
   "metadata": {},
   "source": [
    "In exercise 9b a k-NN classifier is applied to the MNIST dataset using 5-fold cross validation to obtain the optimal k. In order to report at test accuracy and not a training accuracy, the dataset is split into a training and test set. \n",
    "\n",
    "First the k-NN function and 5-fold cross validation functions are defined."
   ]
  },
  {
   "cell_type": "code",
   "execution_count": 29,
   "metadata": {},
   "outputs": [],
   "source": [
    "#define k-NN function (from assignment 2)\n",
    "def kNN(XTrain, YTrain, XTest, k):\n",
    "    outputs = []\n",
    "    for i in range(len(XTest)):\n",
    "        distances = []\n",
    "        for n in range(len(XTrain)):\n",
    "            #compute distance to each neighbor and append to list of distances\n",
    "            distances.append(np.sqrt(sum((XTrain[n][m]-XTest[i][m])**2 for m in range(len(XTrain[0])))))\n",
    "        #classifiers for k nearest neighbors \n",
    "        k_nearest = [YTrain[neighbor_index] for neighbor_index in np.argsort(distances)[:k]]    \n",
    "        #choose classifier most common in k nearest neighbors and append to list of outputs\n",
    "        outputs.append(np.argmax(np.bincount(k_nearest)))\n",
    "    \n",
    "    return np.round(outputs)\n",
    "\n",
    "#define k-fold cross validation function (from assignment 2)\n",
    "from sklearn.model_selection import KFold\n",
    "from sklearn.metrics import accuracy_score\n",
    "\n",
    "def model_selection(k_values, XTrain, YTrain):\n",
    "    accuracies = []\n",
    "    #splitting training data into 5 parts\n",
    "    cv = KFold(n_splits=5)\n",
    "    for k in ks:\n",
    "        k_specific_accuracies = []\n",
    "        for train_index, test_index in cv.split(XTrain):\n",
    "            XTrainCV, XTestCV, YTrainCV, YTestCV = XTrain[train_index], XTrain[test_index], YTrain[train_index], YTrain[test_index]\n",
    "            #test accuracy of kNN for given k \n",
    "            k_specific_accuracies.append(accuracy_score(YTestCV, kNN(XTrainCV, YTrainCV, XTestCV, k)))\n",
    "        accuracies.append(np.round(np.mean(k_specific_accuracies),4))\n",
    "\n",
    "    #find best k as the one with highest mean accuracy\n",
    "    best_k = ks[np.argmax(accuracies)]\n",
    "    return best_k"
   ]
  },
  {
   "cell_type": "markdown",
   "metadata": {},
   "source": [
    "Next the MNIST dataset is split into a training and test set and 5-fold cross validation is performed on the training data to find the optimal k from the range k = {1,3,5,7}."
   ]
  },
  {
   "cell_type": "code",
   "execution_count": 30,
   "metadata": {},
   "outputs": [
    {
     "name": "stdout",
     "output_type": "stream",
     "text": [
      "1\n"
     ]
    }
   ],
   "source": [
    "#split MNIST data into training and test data\n",
    "cv = KFold(n_splits=2)\n",
    "for train_index, test_index in cv.split(digits):\n",
    "    xtrain, xtest, ytrain, ytest = digits[train_index], digits[test_index], labels[train_index], labels[test_index]\n",
    "\n",
    "#perform k-fold cross validation to find best k\n",
    "ks = [1,3,5,7]\n",
    "print(model_selection(ks, xtrain, ytrain))"
   ]
  },
  {
   "cell_type": "markdown",
   "metadata": {},
   "source": [
    "Using the optimal k found above, the test accuracy for the k_best-NN classfier is computed. "
   ]
  },
  {
   "cell_type": "code",
   "execution_count": 31,
   "metadata": {},
   "outputs": [
    {
     "name": "stdout",
     "output_type": "stream",
     "text": [
      "Test accuracy of k_best-NN classifier: 0.9679715302491103\n"
     ]
    }
   ],
   "source": [
    "#compute test accuracy of k_best-NN classifier\n",
    "k_best=1\n",
    "accTest_kbest = accuracy_score(ytest, kNN(xtrain, ytrain, xtest, k_best))\n",
    "print('Test accuracy of k_best-NN classifier: ' + str(accTest_kbest))"
   ]
  },
  {
   "cell_type": "markdown",
   "metadata": {},
   "source": [
    "# Exercise 10 {-}"
   ]
  },
  {
   "cell_type": "markdown",
   "metadata": {},
   "source": [
    "In exercsie 10 the digits dataset is split into a training and a test set and PCA is performed on the training data. After PCA is performed, 3-means clustering and k-NN classification is performed on the dimension reduced dataset to cluster and classify the dimension reduced data. \n",
    "\n",
    "First the PCA function is defined."
   ]
  },
  {
   "cell_type": "code",
   "execution_count": 32,
   "metadata": {},
   "outputs": [],
   "source": [
    "#define PCA function\n",
    "def pca(A):\n",
    "    #compute covariance matrix\n",
    "    Sigma = np.cov(A.T)\n",
    "    #compute eigenvalues and eigenvectors for covariance matrix\n",
    "    evals, evecs = np.linalg.eigh(Sigma)\n",
    "    # switch eigenvalue (and corresponding eigenvector) ordering\n",
    "    evals = evals[::-1]\n",
    "    evecs = evecs[:,::-1]\n",
    "    \n",
    "    return evals, evecs   "
   ]
  },
  {
   "cell_type": "markdown",
   "metadata": {},
   "source": [
    "Next, the data is split into training and test data. The training data is standardised to unit standard deviation and PCA is performed on the dataset. "
   ]
  },
  {
   "cell_type": "code",
   "execution_count": 33,
   "metadata": {},
   "outputs": [],
   "source": [
    "#import digits and labels\n",
    "digits = np.loadtxt('MNIST_179_digits.txt')\n",
    "labels = np.loadtxt('MNIST_179_labels.txt')\n",
    "\n",
    "#split dataset into training and test data\n",
    "cv = KFold(n_splits=2)\n",
    "for train_index, test_index in cv.split(digits):\n",
    "    xtrain, xtest, ytrain, ytest = digits[train_index], digits[test_index], labels[train_index], labels[test_index]   \n",
    "    \n",
    "#normalize the data to standard deviation 1\n",
    "for i in range(len(xtrain[0])):\n",
    "    if np.std(xtrain[:,i]) != 0:\n",
    "        xtrain[:,i] = xtrain[:,i]/np.std(xtrain[:,i])\n",
    "\n",
    "#perform PCA on normalized data\n",
    "evals, evecs = pca(xtrain)"
   ]
  },
  {
   "cell_type": "markdown",
   "metadata": {},
   "source": [
    "The cumulative normalized variance is plotted as a function of principal component (PC) index. "
   ]
  },
  {
   "cell_type": "code",
   "execution_count": 34,
   "metadata": {},
   "outputs": [
    {
     "data": {
      "image/png": "[encoded data removed]",
      "text/plain": [
       "<Figure size 288x216 with 1 Axes>"
      ]
     },
     "metadata": {
      "needs_background": "light"
     },
     "output_type": "display_data"
    }
   ],
   "source": [
    "#compute and plot cumulative normalised variance\n",
    "c_var = 100*np.cumsum(evals/np.sum(evals))\n",
    "PC_index = np.linspace(1,len(evals),len(evals))\n",
    "\n",
    "plt.figure()\n",
    "plt.plot(PC_index, c_var)\n",
    "plt.xlabel('PC index')\n",
    "plt.ylabel('Cumulative variance in %')\n",
    "plt.title('Cumulative variance for \\n standardised training data')\n",
    "plt.show()"
   ]
  },
  {
   "cell_type": "markdown",
   "metadata": {},
   "source": [
    "On the plot it is seen how most of the variance in the data is captured in the first 200 PCs. \n",
    "\n",
    "Next the 3-means clustering from exercise 9a is repeated for the dimension reduced training dataset. \n",
    "First the training data is projected onto the first 20 PCs and 3-means clustering is performed on the dimension reduced training data. The average image for each cluster is then plotted and the percentage of 1, 7 and 9 in each cluster is computed. "
   ]
  },
  {
   "cell_type": "code",
   "execution_count": 35,
   "metadata": {},
   "outputs": [
    {
     "data": {
      "image/png": "[encoded data removed]",
      "text/plain": [
       "<Figure size 288x216 with 1 Axes>"
      ]
     },
     "metadata": {
      "needs_background": "light"
     },
     "output_type": "display_data"
    },
    {
     "name": "stdout",
     "output_type": "stream",
     "text": [
      "The percentage of 1s in cluster 1 is 0 %.\n",
      "The percentage of 7s in cluster 1 is 32.33082706766917 %.\n",
      "The percentage of 9s in cluster 1 is 67.66917293233082 %.\n"
     ]
    },
    {
     "data": {
      "image/png": "[encoded data removed]",
      "text/plain": [
       "<Figure size 288x216 with 1 Axes>"
      ]
     },
     "metadata": {
      "needs_background": "light"
     },
     "output_type": "display_data"
    },
    {
     "name": "stdout",
     "output_type": "stream",
     "text": [
      "The percentage of 1s in cluster 2 is 81.65137614678899 %.\n",
      "The percentage of 7s in cluster 2 is 12.844036697247708 %.\n",
      "The percentage of 9s in cluster 2 is 5.5045871559633035 %.\n"
     ]
    },
    {
     "data": {
      "image/png": "[encoded data removed]",
      "text/plain": [
       "<Figure size 288x216 with 1 Axes>"
      ]
     },
     "metadata": {
      "needs_background": "light"
     },
     "output_type": "display_data"
    },
    {
     "name": "stdout",
     "output_type": "stream",
     "text": [
      "The percentage of 1s in cluster 3 is 0.4716981132075472 %.\n",
      "The percentage of 7s in cluster 3 is 60.37735849056604 %.\n",
      "The percentage of 9s in cluster 3 is 39.15094339622642 %.\n"
     ]
    }
   ],
   "source": [
    "#project digits data onto first 20 PCs\n",
    "projected_20 = evecs[:,:20].T@xtrain.T\n",
    "\n",
    "#perform 3-means clustering on the projected data\n",
    "cen1, cen2, cen3, clust1, clust2, clust3, lab1, lab2, lab3, clust_index = clust_3means((projected_20).T,ytrain)\n",
    "\n",
    "#plot cluster 1 as image\n",
    "plt.imshow(xtrain[clust_index==1].mean(axis=0).reshape(28,28))\n",
    "plt.xlabel('a.u.')\n",
    "plt.ylabel('a.u.')\n",
    "plt.title('Visualisation of cluster center 1 \\n projected  on first 20 PCs')\n",
    "plt.show()\n",
    "\n",
    "#compute percentage of each digit in cluster 1\n",
    "ratio1 = 0\n",
    "ratio7 = np.unique(lab1, return_counts=True)[1][0]/sum(np.unique(lab1, return_counts=True)[1])\n",
    "ratio9 = np.unique(lab1, return_counts=True)[1][1]/sum(np.unique(lab1, return_counts=True)[1])\n",
    "\n",
    "print('The percentage of 1s in cluster 1 is '+str(ratio1*100)+' %.')\n",
    "print('The percentage of 7s in cluster 1 is '+str(ratio7*100)+' %.')\n",
    "print('The percentage of 9s in cluster 1 is '+str(ratio9*100)+' %.')\n",
    "\n",
    "#plot cluster 2 as image\n",
    "plt.imshow(xtrain[clust_index==2].mean(axis=0).reshape(28,28))\n",
    "plt.xlabel('a.u.')\n",
    "plt.ylabel('a.u.')\n",
    "plt.title('Visualisation of cluster center 2 \\n projected on first 20 PCs')\n",
    "plt.show()\n",
    "\n",
    "#compute percentage of each digit in cluster 2\n",
    "ratio1 = np.unique(lab2, return_counts=True)[1][0]/sum(np.unique(lab2, return_counts=True)[1])\n",
    "ratio7 = np.unique(lab2, return_counts=True)[1][1]/sum(np.unique(lab2, return_counts=True)[1])\n",
    "ratio9 = np.unique(lab2, return_counts=True)[1][2]/sum(np.unique(lab2, return_counts=True)[1])\n",
    "\n",
    "print('The percentage of 1s in cluster 2 is '+str(ratio1*100)+' %.')\n",
    "print('The percentage of 7s in cluster 2 is '+str(ratio7*100)+' %.')\n",
    "print('The percentage of 9s in cluster 2 is '+str(ratio9*100)+' %.')\n",
    "\n",
    "#plot cluster 3 as image\n",
    "plt.imshow(xtrain[clust_index==3].mean(axis=0).reshape(28,28))\n",
    "plt.xlabel('a.u.')\n",
    "plt.ylabel('a.u.')\n",
    "plt.title('Visualisation of cluster center 3 \\n projected  on first 20 PCs')\n",
    "plt.show()\n",
    "\n",
    "#compute percentage of each digit in cluster 3\n",
    "ratio1 = np.unique(lab3, return_counts=True)[1][0]/sum(np.unique(lab3, return_counts=True)[1])\n",
    "ratio7 = np.unique(lab3, return_counts=True)[1][1]/sum(np.unique(lab3, return_counts=True)[1])\n",
    "ratio9 = np.unique(lab3, return_counts=True)[1][2]/sum(np.unique(lab3, return_counts=True)[1])\n",
    "\n",
    "print('The percentage of 1s in cluster 3 is '+str(ratio1*100)+' %.')\n",
    "print('The percentage of 7s in cluster 3 is '+str(ratio7*100)+' %.')\n",
    "print('The percentage of 9s in cluster 3 is '+str(ratio9*100)+' %.')"
   ]
  },
  {
   "cell_type": "markdown",
   "metadata": {},
   "source": [
    "For each cluster the plot of the cluster center visually looks like the digit that is represented with the highest percentage in the cluster.\n",
    "\n",
    "Next the training data is projected onto its first 200 PCs and 3-means clustering is performed. The average image for each cluster is shown and the percentage of 1, 7 and 9 in each cluster is computed, once again. "
   ]
  },
  {
   "cell_type": "code",
   "execution_count": 36,
   "metadata": {},
   "outputs": [
    {
     "data": {
      "image/png": "[encoded data removed]",
      "text/plain": [
       "<Figure size 288x216 with 1 Axes>"
      ]
     },
     "metadata": {
      "needs_background": "light"
     },
     "output_type": "display_data"
    },
    {
     "name": "stdout",
     "output_type": "stream",
     "text": [
      "The percentage of 1s in cluster 1 is 0 %.\n",
      "The percentage of 7s in cluster 1 is 34.78260869565217 %.\n",
      "The percentage of 9s in cluster 1 is 65.21739130434783 %.\n"
     ]
    },
    {
     "data": {
      "image/png": "[encoded data removed]",
      "text/plain": [
       "<Figure size 288x216 with 1 Axes>"
      ]
     },
     "metadata": {
      "needs_background": "light"
     },
     "output_type": "display_data"
    },
    {
     "name": "stdout",
     "output_type": "stream",
     "text": [
      "The percentage of 1s in cluster 2 is 80.9090909090909 %.\n",
      "The percentage of 7s in cluster 2 is 13.18181818181818 %.\n",
      "The percentage of 9s in cluster 2 is 5.909090909090909 %.\n"
     ]
    },
    {
     "data": {
      "image/png": "[encoded data removed]",
      "text/plain": [
       "<Figure size 288x216 with 1 Axes>"
      ]
     },
     "metadata": {
      "needs_background": "light"
     },
     "output_type": "display_data"
    },
    {
     "name": "stdout",
     "output_type": "stream",
     "text": [
      "The percentage of 1s in cluster 3 is 0.5494505494505495 %.\n",
      "The percentage of 7s in cluster 3 is 62.637362637362635 %.\n",
      "The percentage of 9s in cluster 3 is 36.81318681318682 %.\n"
     ]
    }
   ],
   "source": [
    "#project digits data onto first 200 PCs\n",
    "projected_200 = evecs[:,:200].T@xtrain.T\n",
    "\n",
    "# perform 3-means clustering on the projected data\n",
    "cen1, cen2, cen3, clust1, clust2, clust3, lab1, lab2, lab3, clust_index = clust_3means((projected_200).T,ytrain)\n",
    "\n",
    "#plot cluster 1 as image\n",
    "plt.imshow(xtrain[clust_index==1].mean(axis=0).reshape(28,28))\n",
    "plt.xlabel('a.u.')\n",
    "plt.ylabel('a.u.')\n",
    "plt.title('Visualisation of cluster center 1 \\n projected on first 200 PCs')\n",
    "plt.show()\n",
    "\n",
    "#compute percentage of each digit in cluster 1\n",
    "ratio1 = 0\n",
    "ratio7 = np.unique(lab1, return_counts=True)[1][0]/sum(np.unique(lab1, return_counts=True)[1])\n",
    "ratio9 = np.unique(lab1, return_counts=True)[1][1]/sum(np.unique(lab1, return_counts=True)[1])\n",
    "\n",
    "print('The percentage of 1s in cluster 1 is '+str(ratio1*100)+' %.')\n",
    "print('The percentage of 7s in cluster 1 is '+str(ratio7*100)+' %.')\n",
    "print('The percentage of 9s in cluster 1 is '+str(ratio9*100)+' %.')\n",
    "\n",
    "#plot cluster 2 as image\n",
    "plt.imshow(xtrain[clust_index==2].mean(axis=0).reshape(28,28))\n",
    "plt.xlabel('a.u.')\n",
    "plt.ylabel('a.u.')\n",
    "plt.title('Visualisation of cluster center 2 \\n projected on first 200 PCs')\n",
    "plt.show()\n",
    "\n",
    "#compute percentage of each digit in cluster 2\n",
    "ratio1 = np.unique(lab2, return_counts=True)[1][0]/sum(np.unique(lab2, return_counts=True)[1])\n",
    "ratio7 = np.unique(lab2, return_counts=True)[1][1]/sum(np.unique(lab2, return_counts=True)[1])\n",
    "ratio9 = np.unique(lab2, return_counts=True)[1][2]/sum(np.unique(lab2, return_counts=True)[1])\n",
    "\n",
    "print('The percentage of 1s in cluster 2 is '+str(ratio1*100)+' %.')\n",
    "print('The percentage of 7s in cluster 2 is '+str(ratio7*100)+' %.')\n",
    "print('The percentage of 9s in cluster 2 is '+str(ratio9*100)+' %.')\n",
    "\n",
    "#plot cluster 3 as image\n",
    "plt.imshow(xtrain[clust_index==3].mean(axis=0).reshape(28,28))\n",
    "plt.xlabel('a.u.')\n",
    "plt.ylabel('a.u.')\n",
    "plt.title('Visualisation of cluster 3 \\n projected on first 200 PCs')\n",
    "plt.show()\n",
    "\n",
    "#compute percentage of each digit in cluster 3\n",
    "ratio1 = np.unique(lab3, return_counts=True)[1][0]/sum(np.unique(lab3, return_counts=True)[1])\n",
    "ratio7 = np.unique(lab3, return_counts=True)[1][1]/sum(np.unique(lab3, return_counts=True)[1])\n",
    "ratio9 = np.unique(lab3, return_counts=True)[1][2]/sum(np.unique(lab3, return_counts=True)[1])\n",
    "\n",
    "print('The percentage of 1s in cluster 3 is '+str(ratio1*100)+' %.')\n",
    "print('The percentage of 7s in cluster 3 is '+str(ratio7*100)+' %.')\n",
    "print('The percentage of 9s in cluster 3 is '+str(ratio9*100)+' %.')"
   ]
  },
  {
   "cell_type": "markdown",
   "metadata": {},
   "source": [
    "For each cluster the plot of the cluster center visually looks like the digit that is represented with the highest percentage in the cluster.\n",
    "\n",
    "Next, k-fold cross validation is performed on the training data projected on the first 20 PCs to find the optimal k. Using the best k the test accuracy of the k_best-NN classifier is the computed.  "
   ]
  },
  {
   "cell_type": "code",
   "execution_count": 37,
   "metadata": {},
   "outputs": [],
   "source": [
    "#project traning and test data on 20 first PCs\n",
    "projected_20_train = evecs[:,:20].T@xtrain.T\n",
    "projected_20_test = evecs[:,:20].T@xtest.T\n",
    "\n",
    "#perform k-fold cross validation to find best k\n",
    "ks = [1,3,5,7]\n",
    "k_best = model_selection(ks, projected_20_train, ytrain)"
   ]
  },
  {
   "cell_type": "code",
   "execution_count": 38,
   "metadata": {},
   "outputs": [
    {
     "name": "stdout",
     "output_type": "stream",
     "text": [
      "Test accuracy of k_best-NN classifier: 0.9199288256227758\n"
     ]
    }
   ],
   "source": [
    "#compute test accuracy of k_best-NN classifier\n",
    "accTest_kbest = accuracy_score(ytest, kNN(projected_20_train.T, ytrain, projected_20_test.T, k_best))\n",
    "print('Test accuracy of k_best-NN classifier: ' + str(accTest_kbest))"
   ]
  },
  {
   "cell_type": "markdown",
   "metadata": {},
   "source": [
    "Finally, k-fold cross validation is performed on the traning data projected on the first 200 PCs to find the best k, and the test accuracy of the k_best-NN classifier is computed"
   ]
  },
  {
   "cell_type": "code",
   "execution_count": 39,
   "metadata": {},
   "outputs": [],
   "source": [
    "#project traning and test data on 200 first PCs\n",
    "projected_200_train = evecs[:,:200].T@xtrain.T\n",
    "projected_200_test = evecs[:,:200].T@xtest.T\n",
    "\n",
    "#perform k-fold cross validation to find best k\n",
    "ks = [1,3,5,7]\n",
    "k_best = model_selection(ks, projected_200_train, ytrain)"
   ]
  },
  {
   "cell_type": "code",
   "execution_count": 40,
   "metadata": {},
   "outputs": [
    {
     "name": "stdout",
     "output_type": "stream",
     "text": [
      "Test accuracy of k_best-NN classifier: 0.8932384341637011\n"
     ]
    }
   ],
   "source": [
    "#compute test accuracy of k_best-NN classifier\n",
    "accTest_kbest = accuracy_score(ytest, kNN(projected_200_train.T, ytrain, projected_200_test.T, k_best))\n",
    "print('Test accuracy of k_best-NN classifier: ' + str(accTest_kbest))"
   ]
  },
  {
   "cell_type": "markdown",
   "metadata": {},
   "source": [
    "Performing PCA on the data before performing k-NN classification reduces the test accuracy of the k-NN classification.  Projecting the data onto the first 20 PCs gave a test accuracy of 92%. Projecting the data onto the first 200 PCs gave a test accuracy of 89%. Doing k-NN classification without dimension reduction gave a test accuracy of 97% (in exercise 9b). These results are surprising to me. I would have expected the test accuracy to be higher for the data projected onto the first 200 PCs than for the first 20 PCs.  "
   ]
  }
 ],
 "metadata": {
  "kernelspec": {
   "display_name": "Python 3",
   "language": "python",
   "name": "python3"
  },
  "language_info": {
   "codemirror_mode": {
    "name": "ipython",
    "version": 3
   },
   "file_extension": ".py",
   "mimetype": "text/x-python",
   "name": "python",
   "nbconvert_exporter": "python",
   "pygments_lexer": "ipython3",
   "version": "3.7.1"
  }
 },
 "nbformat": 4,
 "nbformat_minor": 4
}
